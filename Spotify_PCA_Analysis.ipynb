{
 "cells": [
  {
   "cell_type": "markdown",
   "id": "11ea2502",
   "metadata": {},
   "source": [
    "## Import the libraries needed"
   ]
  },
  {
   "cell_type": "code",
   "execution_count": null,
   "id": "18211cec",
   "metadata": {},
   "outputs": [],
   "source": [
    "import pandas as pd\n",
    "import numpy as np\n",
    "import matplotlib.pyplot as plt\n",
    "from sklearn.decomposition import PCA"
   ]
  },
  {
   "cell_type": "markdown",
   "id": "62466701",
   "metadata": {},
   "source": [
    "## Loading our dataset"
   ]
  },
  {
   "cell_type": "code",
   "execution_count": null,
   "id": "e03a3d85",
   "metadata": {},
   "outputs": [],
   "source": [
    "df = pd.read_csv('final.csv')\n",
    "len(df)"
   ]
  },
  {
   "cell_type": "code",
   "execution_count": null,
   "id": "4a5aafec",
   "metadata": {},
   "outputs": [],
   "source": [
    "df.head()"
   ]
  },
  {
   "cell_type": "markdown",
   "id": "45d13f10",
   "metadata": {},
   "source": [
    "## Data pre-processing"
   ]
  },
  {
   "cell_type": "markdown",
   "id": "6d8ccfcf",
   "metadata": {},
   "source": [
    "Make key and mode into categorical values"
   ]
  },
  {
   "cell_type": "code",
   "execution_count": null,
   "id": "47651c10",
   "metadata": {},
   "outputs": [],
   "source": [
    "df['key'] = df['key'].astype('category')"
   ]
  },
  {
   "cell_type": "code",
   "execution_count": null,
   "id": "7b34a4cb",
   "metadata": {},
   "outputs": [],
   "source": [
    "df['mode'] = df['mode'].astype('category')"
   ]
  },
  {
   "cell_type": "markdown",
   "id": "95827286",
   "metadata": {},
   "source": [
    "Shuffle the dataframe"
   ]
  },
  {
   "cell_type": "code",
   "execution_count": null,
   "id": "3ffc23a1",
   "metadata": {},
   "outputs": [],
   "source": [
    "df = df.sample(frac=1, random_state=42)"
   ]
  },
  {
   "cell_type": "markdown",
   "id": "983c5f40",
   "metadata": {},
   "source": [
    "Remove duplicates from the dataset"
   ]
  },
  {
   "cell_type": "code",
   "execution_count": null,
   "id": "4baf56f0",
   "metadata": {},
   "outputs": [],
   "source": [
    "df = df.drop_duplicates()\n",
    "\n",
    "len(df)"
   ]
  },
  {
   "cell_type": "markdown",
   "id": "d64ddf5f",
   "metadata": {},
   "source": [
    "Drop extra columns (by keeping the columns we want)"
   ]
  },
  {
   "cell_type": "code",
   "execution_count": null,
   "id": "efce0067",
   "metadata": {},
   "outputs": [],
   "source": [
    "df = df[['danceability', 'energy','key','loudness','mode','speechiness','acousticness','instrumentalness','liveness','valence','tempo', 'preference']]\n",
    "# preference col can be used for other analysis\n",
    "df.head()"
   ]
  },
  {
   "cell_type": "markdown",
   "id": "9adad5ad",
   "metadata": {},
   "source": [
    "Split data into features and target variable. Although, in this case, we will not be using our target variable"
   ]
  },
  {
   "cell_type": "code",
   "execution_count": null,
   "id": "a56236aa",
   "metadata": {},
   "outputs": [],
   "source": [
    "X = df.iloc[:, 1:-1].values\n",
    "y = df.iloc[:, -1].values"
   ]
  },
  {
   "cell_type": "markdown",
   "id": "7624ebe9",
   "metadata": {},
   "source": [
    "Define a scaling function for numpy arrays. This function makes sure that our numeric values have a mean of 0 and a standard deviation of 1."
   ]
  },
  {
   "cell_type": "code",
   "execution_count": null,
   "id": "78c44268",
   "metadata": {},
   "outputs": [],
   "source": [
    "def scale_features(X):\n",
    "    for i in range(X.shape[1]):\n",
    "        col = X[:, i]\n",
    "        if np.issubdtype(col.dtype, np.number):  # check if the column is numeric\n",
    "            col = col.astype(float)\n",
    "            X[:, i] = (col - col.mean()) / col.std()  # scale the column"
   ]
  },
  {
   "cell_type": "markdown",
   "id": "50c09a10",
   "metadata": {},
   "source": [
    "Apply the scaling function to X"
   ]
  },
  {
   "cell_type": "code",
   "execution_count": null,
   "id": "3fac99bd",
   "metadata": {},
   "outputs": [],
   "source": [
    "scale_features(X)\n",
    "\n",
    "X[:5]"
   ]
  },
  {
   "cell_type": "markdown",
   "id": "5936e195",
   "metadata": {},
   "source": [
    "Perform PCA with 2 components"
   ]
  },
  {
   "cell_type": "code",
   "execution_count": null,
   "id": "92e71abc",
   "metadata": {},
   "outputs": [],
   "source": [
    "pca = PCA(n_components=2)\n",
    "principal_components = pca.fit_transform(X)"
   ]
  },
  {
   "cell_type": "markdown",
   "id": "6d3adaed",
   "metadata": {},
   "source": [
    "Create a scatter plot of the feature vectors"
   ]
  },
  {
   "cell_type": "code",
   "execution_count": null,
   "id": "203e6340",
   "metadata": {},
   "outputs": [],
   "source": [
    "plt.scatter(principal_components[:, 0], principal_components[:, 1])\n",
    "plt.xlabel(\"Principal Component 1\")\n",
    "plt.ylabel(\"Principal Component 2\")\n",
    "plt.title(\"PCA of the data\")\n",
    "plt.show()"
   ]
  },
  {
   "cell_type": "markdown",
   "id": "36cc89e4",
   "metadata": {},
   "source": [
    "Get the principal axes in feature space"
   ]
  },
  {
   "cell_type": "code",
   "execution_count": null,
   "id": "e72be804",
   "metadata": {},
   "outputs": [],
   "source": [
    "feature_vectors = pca.components_.T"
   ]
  },
  {
   "cell_type": "markdown",
   "id": "a6606ec5",
   "metadata": {},
   "source": [
    "Set scaling factor for feature vectors"
   ]
  },
  {
   "cell_type": "code",
   "execution_count": null,
   "id": "f67c5d3e",
   "metadata": {},
   "outputs": [],
   "source": [
    "scale_factor = 4"
   ]
  },
  {
   "cell_type": "markdown",
   "id": "e0e2bb0c",
   "metadata": {},
   "source": [
    "Plot the feature vectors"
   ]
  },
  {
   "cell_type": "code",
   "execution_count": null,
   "id": "9ecfaee1",
   "metadata": {},
   "outputs": [],
   "source": [
    "plt.scatter(principal_components[:, 0], principal_components[:, 1])\n",
    "for i, feature_vector in enumerate(feature_vectors):\n",
    "    plt.arrow(0, 0, feature_vector[0]*scale_factor, feature_vector[1]*scale_factor, \n",
    "              color='r', alpha=0.5, linewidth=2*scale_factor, \n",
    "              head_width=0.1*scale_factor, head_length=0.1*scale_factor)\n",
    "    plt.text(feature_vector[0]*scale_factor*1.15, feature_vector[1]*scale_factor*1.15, \n",
    "             df.columns[:-1][i], color='r', ha='center', va='center')\n",
    "plt.xlabel(\"Principal Component 1\")\n",
    "plt.ylabel(\"Principal Component 2\")\n",
    "plt.title('Revised PCA')    \n",
    "plt.show()"
   ]
  },
  {
   "cell_type": "code",
   "execution_count": null,
   "id": "39a979b3",
   "metadata": {},
   "outputs": [],
   "source": [
    "# plt.savefig('pca.png')"
   ]
  }
 ],
 "metadata": {
  "kernelspec": {
   "display_name": "Python 3",
   "language": "python",
   "name": "python3"
  },
  "language_info": {
   "codemirror_mode": {
    "name": "ipython",
    "version": 3
   },
   "file_extension": ".py",
   "mimetype": "text/x-python",
   "name": "python",
   "nbconvert_exporter": "python",
   "pygments_lexer": "ipython3",
   "version": "3.10.2"
  }
 },
 "nbformat": 4,
 "nbformat_minor": 5
}
