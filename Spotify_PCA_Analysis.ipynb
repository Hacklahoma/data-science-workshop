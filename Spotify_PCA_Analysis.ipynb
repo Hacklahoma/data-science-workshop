{
 "cells": [
  {
   "cell_type": "markdown",
   "id": "11ea2502",
   "metadata": {},
   "source": [
    "## Import the libraries needed"
   ]
  },
  {
   "cell_type": "code",
   "execution_count": 35,
   "id": "18211cec",
   "metadata": {},
   "outputs": [],
   "source": [
    "import pandas as pd\n",
    "import numpy as np\n",
    "import matplotlib.pyplot as plt\n",
    "from sklearn.decomposition import PCA"
   ]
  },
  {
   "cell_type": "markdown",
   "id": "62466701",
   "metadata": {},
   "source": [
    "## Loading our dataset"
   ]
  },
  {
   "cell_type": "code",
   "execution_count": 36,
   "id": "e03a3d85",
   "metadata": {},
   "outputs": [
    {
     "data": {
      "text/plain": [
       "38411"
      ]
     },
     "execution_count": 36,
     "metadata": {},
     "output_type": "execute_result"
    }
   ],
   "source": [
    "df = pd.read_csv('final.csv')\n",
    "len(df)"
   ]
  },
  {
   "cell_type": "code",
   "execution_count": 37,
   "id": "4a5aafec",
   "metadata": {},
   "outputs": [
    {
     "data": {
      "text/html": [
       "<div>\n",
       "<style scoped>\n",
       "    .dataframe tbody tr th:only-of-type {\n",
       "        vertical-align: middle;\n",
       "    }\n",
       "\n",
       "    .dataframe tbody tr th {\n",
       "        vertical-align: top;\n",
       "    }\n",
       "\n",
       "    .dataframe thead th {\n",
       "        text-align: right;\n",
       "    }\n",
       "</style>\n",
       "<table border=\"1\" class=\"dataframe\">\n",
       "  <thead>\n",
       "    <tr style=\"text-align: right;\">\n",
       "      <th></th>\n",
       "      <th>Unnamed: 0</th>\n",
       "      <th>name</th>\n",
       "      <th>endTime</th>\n",
       "      <th>artistName</th>\n",
       "      <th>trackName</th>\n",
       "      <th>msPlayed</th>\n",
       "      <th>datetime</th>\n",
       "      <th>danceability</th>\n",
       "      <th>energy</th>\n",
       "      <th>key</th>\n",
       "      <th>...</th>\n",
       "      <th>type</th>\n",
       "      <th>id</th>\n",
       "      <th>uri</th>\n",
       "      <th>track_href</th>\n",
       "      <th>analysis_url</th>\n",
       "      <th>duration_ms</th>\n",
       "      <th>time_signature</th>\n",
       "      <th>albumName</th>\n",
       "      <th>albumID</th>\n",
       "      <th>preference</th>\n",
       "    </tr>\n",
       "  </thead>\n",
       "  <tbody>\n",
       "    <tr>\n",
       "      <th>0</th>\n",
       "      <td>0</td>\n",
       "      <td>Johnny Cash___Wage War</td>\n",
       "      <td>7/12/2022 5:34</td>\n",
       "      <td>Wage War</td>\n",
       "      <td>Johnny Cash</td>\n",
       "      <td>232413</td>\n",
       "      <td>7/12/2022 5:34</td>\n",
       "      <td>0.490</td>\n",
       "      <td>0.615</td>\n",
       "      <td>4</td>\n",
       "      <td>...</td>\n",
       "      <td>audio_features</td>\n",
       "      <td>4sBOU30e7J2KF2VzBwDG2M</td>\n",
       "      <td>spotify:track:4sBOU30e7J2KF2VzBwDG2M</td>\n",
       "      <td>https://api.spotify.com/v1/tracks/4sBOU30e7J2K...</td>\n",
       "      <td>https://api.spotify.com/v1/audio-analysis/4sBO...</td>\n",
       "      <td>216000</td>\n",
       "      <td>4</td>\n",
       "      <td>Johnny Cash (Stripped)</td>\n",
       "      <td>0NBqAEzV88JB497CabtJCn</td>\n",
       "      <td>1</td>\n",
       "    </tr>\n",
       "    <tr>\n",
       "      <th>1</th>\n",
       "      <td>1</td>\n",
       "      <td>Seven Hills___While She Sleeps</td>\n",
       "      <td>7/12/2022 5:37</td>\n",
       "      <td>While She Sleeps</td>\n",
       "      <td>Seven Hills</td>\n",
       "      <td>262546</td>\n",
       "      <td>7/12/2022 5:37</td>\n",
       "      <td>0.457</td>\n",
       "      <td>0.968</td>\n",
       "      <td>5</td>\n",
       "      <td>...</td>\n",
       "      <td>audio_features</td>\n",
       "      <td>7cBkZ5cBvMUrHoCtsoDotj</td>\n",
       "      <td>spotify:track:7cBkZ5cBvMUrHoCtsoDotj</td>\n",
       "      <td>https://api.spotify.com/v1/tracks/7cBkZ5cBvMUr...</td>\n",
       "      <td>https://api.spotify.com/v1/audio-analysis/7cBk...</td>\n",
       "      <td>262547</td>\n",
       "      <td>4</td>\n",
       "      <td>This Is The Six (Deluxe)</td>\n",
       "      <td>5WYyxZVi03JrSvwOr9LgCW</td>\n",
       "      <td>1</td>\n",
       "    </tr>\n",
       "    <tr>\n",
       "      <th>2</th>\n",
       "      <td>2</td>\n",
       "      <td>Engine 45___The Ghost Inside</td>\n",
       "      <td>7/12/2022 5:41</td>\n",
       "      <td>The Ghost Inside</td>\n",
       "      <td>Engine 45</td>\n",
       "      <td>252155</td>\n",
       "      <td>7/12/2022 5:41</td>\n",
       "      <td>0.493</td>\n",
       "      <td>0.948</td>\n",
       "      <td>10</td>\n",
       "      <td>...</td>\n",
       "      <td>audio_features</td>\n",
       "      <td>70SkWedrjKzDgKrqHZwAf4</td>\n",
       "      <td>spotify:track:70SkWedrjKzDgKrqHZwAf4</td>\n",
       "      <td>https://api.spotify.com/v1/tracks/70SkWedrjKzD...</td>\n",
       "      <td>https://api.spotify.com/v1/audio-analysis/70Sk...</td>\n",
       "      <td>252155</td>\n",
       "      <td>4</td>\n",
       "      <td>Get What You Give</td>\n",
       "      <td>3r2Tup1FQ1xiDr78Q7s71v</td>\n",
       "      <td>1</td>\n",
       "    </tr>\n",
       "    <tr>\n",
       "      <th>3</th>\n",
       "      <td>3</td>\n",
       "      <td>Impermanence___Architects</td>\n",
       "      <td>7/12/2022 5:45</td>\n",
       "      <td>Architects</td>\n",
       "      <td>Impermanence</td>\n",
       "      <td>242356</td>\n",
       "      <td>7/12/2022 5:45</td>\n",
       "      <td>0.374</td>\n",
       "      <td>0.895</td>\n",
       "      <td>8</td>\n",
       "      <td>...</td>\n",
       "      <td>audio_features</td>\n",
       "      <td>3p7qbTzPf4jKeEEwy765sI</td>\n",
       "      <td>spotify:track:3p7qbTzPf4jKeEEwy765sI</td>\n",
       "      <td>https://api.spotify.com/v1/tracks/3p7qbTzPf4jK...</td>\n",
       "      <td>https://api.spotify.com/v1/audio-analysis/3p7q...</td>\n",
       "      <td>242356</td>\n",
       "      <td>4</td>\n",
       "      <td>For Those That Wish To Exist</td>\n",
       "      <td>7qemUq4n71awwVPOaX7jw4</td>\n",
       "      <td>1</td>\n",
       "    </tr>\n",
       "    <tr>\n",
       "      <th>4</th>\n",
       "      <td>4</td>\n",
       "      <td>Square Hammer___Ghost</td>\n",
       "      <td>7/12/2022 5:48</td>\n",
       "      <td>Ghost</td>\n",
       "      <td>Square Hammer</td>\n",
       "      <td>239293</td>\n",
       "      <td>7/12/2022 5:48</td>\n",
       "      <td>0.530</td>\n",
       "      <td>0.903</td>\n",
       "      <td>2</td>\n",
       "      <td>...</td>\n",
       "      <td>audio_features</td>\n",
       "      <td>2XgTw2co6xv95TmKpMcL70</td>\n",
       "      <td>spotify:track:2XgTw2co6xv95TmKpMcL70</td>\n",
       "      <td>https://api.spotify.com/v1/tracks/2XgTw2co6xv9...</td>\n",
       "      <td>https://api.spotify.com/v1/audio-analysis/2XgT...</td>\n",
       "      <td>239293</td>\n",
       "      <td>4</td>\n",
       "      <td>Meliora (Deluxe Edition)</td>\n",
       "      <td>3bChCUtpRC1NaCLYD4unbD</td>\n",
       "      <td>1</td>\n",
       "    </tr>\n",
       "  </tbody>\n",
       "</table>\n",
       "<p>5 rows × 28 columns</p>\n",
       "</div>"
      ],
      "text/plain": [
       "   Unnamed: 0                            name         endTime  \\\n",
       "0           0          Johnny Cash___Wage War  7/12/2022 5:34   \n",
       "1           1  Seven Hills___While She Sleeps  7/12/2022 5:37   \n",
       "2           2    Engine 45___The Ghost Inside  7/12/2022 5:41   \n",
       "3           3       Impermanence___Architects  7/12/2022 5:45   \n",
       "4           4           Square Hammer___Ghost  7/12/2022 5:48   \n",
       "\n",
       "         artistName      trackName  msPlayed        datetime  danceability  \\\n",
       "0          Wage War    Johnny Cash    232413  7/12/2022 5:34         0.490   \n",
       "1  While She Sleeps    Seven Hills    262546  7/12/2022 5:37         0.457   \n",
       "2  The Ghost Inside      Engine 45    252155  7/12/2022 5:41         0.493   \n",
       "3        Architects   Impermanence    242356  7/12/2022 5:45         0.374   \n",
       "4             Ghost  Square Hammer    239293  7/12/2022 5:48         0.530   \n",
       "\n",
       "   energy  key  ...            type                      id  \\\n",
       "0   0.615    4  ...  audio_features  4sBOU30e7J2KF2VzBwDG2M   \n",
       "1   0.968    5  ...  audio_features  7cBkZ5cBvMUrHoCtsoDotj   \n",
       "2   0.948   10  ...  audio_features  70SkWedrjKzDgKrqHZwAf4   \n",
       "3   0.895    8  ...  audio_features  3p7qbTzPf4jKeEEwy765sI   \n",
       "4   0.903    2  ...  audio_features  2XgTw2co6xv95TmKpMcL70   \n",
       "\n",
       "                                    uri  \\\n",
       "0  spotify:track:4sBOU30e7J2KF2VzBwDG2M   \n",
       "1  spotify:track:7cBkZ5cBvMUrHoCtsoDotj   \n",
       "2  spotify:track:70SkWedrjKzDgKrqHZwAf4   \n",
       "3  spotify:track:3p7qbTzPf4jKeEEwy765sI   \n",
       "4  spotify:track:2XgTw2co6xv95TmKpMcL70   \n",
       "\n",
       "                                          track_href  \\\n",
       "0  https://api.spotify.com/v1/tracks/4sBOU30e7J2K...   \n",
       "1  https://api.spotify.com/v1/tracks/7cBkZ5cBvMUr...   \n",
       "2  https://api.spotify.com/v1/tracks/70SkWedrjKzD...   \n",
       "3  https://api.spotify.com/v1/tracks/3p7qbTzPf4jK...   \n",
       "4  https://api.spotify.com/v1/tracks/2XgTw2co6xv9...   \n",
       "\n",
       "                                        analysis_url  duration_ms  \\\n",
       "0  https://api.spotify.com/v1/audio-analysis/4sBO...       216000   \n",
       "1  https://api.spotify.com/v1/audio-analysis/7cBk...       262547   \n",
       "2  https://api.spotify.com/v1/audio-analysis/70Sk...       252155   \n",
       "3  https://api.spotify.com/v1/audio-analysis/3p7q...       242356   \n",
       "4  https://api.spotify.com/v1/audio-analysis/2XgT...       239293   \n",
       "\n",
       "   time_signature                     albumName                 albumID  \\\n",
       "0               4        Johnny Cash (Stripped)  0NBqAEzV88JB497CabtJCn   \n",
       "1               4      This Is The Six (Deluxe)  5WYyxZVi03JrSvwOr9LgCW   \n",
       "2               4             Get What You Give  3r2Tup1FQ1xiDr78Q7s71v   \n",
       "3               4  For Those That Wish To Exist  7qemUq4n71awwVPOaX7jw4   \n",
       "4               4      Meliora (Deluxe Edition)  3bChCUtpRC1NaCLYD4unbD   \n",
       "\n",
       "  preference  \n",
       "0          1  \n",
       "1          1  \n",
       "2          1  \n",
       "3          1  \n",
       "4          1  \n",
       "\n",
       "[5 rows x 28 columns]"
      ]
     },
     "execution_count": 37,
     "metadata": {},
     "output_type": "execute_result"
    }
   ],
   "source": [
    "df.head()"
   ]
  },
  {
   "cell_type": "markdown",
   "id": "45d13f10",
   "metadata": {},
   "source": [
    "## Data pre-processing"
   ]
  },
  {
   "cell_type": "markdown",
   "id": "6d8ccfcf",
   "metadata": {},
   "source": [
    "Make key and mode into categorical values"
   ]
  },
  {
   "cell_type": "code",
   "execution_count": 38,
   "id": "47651c10",
   "metadata": {},
   "outputs": [],
   "source": [
    "df['key'] = df['key'].astype('category')"
   ]
  },
  {
   "cell_type": "code",
   "execution_count": 39,
   "id": "7b34a4cb",
   "metadata": {},
   "outputs": [],
   "source": [
    "df['mode'] = df['mode'].astype('category')"
   ]
  },
  {
   "cell_type": "markdown",
   "id": "95827286",
   "metadata": {},
   "source": [
    "Shuffle the dataframe"
   ]
  },
  {
   "cell_type": "code",
   "execution_count": 40,
   "id": "3ffc23a1",
   "metadata": {},
   "outputs": [],
   "source": [
    "df = df.sample(frac=1, random_state=42)"
   ]
  },
  {
   "cell_type": "markdown",
   "id": "983c5f40",
   "metadata": {},
   "source": [
    "Remove duplicates from the dataset"
   ]
  },
  {
   "cell_type": "code",
   "execution_count": 41,
   "id": "4baf56f0",
   "metadata": {},
   "outputs": [
    {
     "data": {
      "text/plain": [
       "38411"
      ]
     },
     "execution_count": 41,
     "metadata": {},
     "output_type": "execute_result"
    }
   ],
   "source": [
    "df = df.drop_duplicates()\n",
    "\n",
    "len(df)"
   ]
  },
  {
   "cell_type": "markdown",
   "id": "d64ddf5f",
   "metadata": {},
   "source": [
    "Drop extra columns (by keeping the columns we want)"
   ]
  },
  {
   "cell_type": "code",
   "execution_count": 42,
   "id": "efce0067",
   "metadata": {},
   "outputs": [
    {
     "data": {
      "text/html": [
       "<div>\n",
       "<style scoped>\n",
       "    .dataframe tbody tr th:only-of-type {\n",
       "        vertical-align: middle;\n",
       "    }\n",
       "\n",
       "    .dataframe tbody tr th {\n",
       "        vertical-align: top;\n",
       "    }\n",
       "\n",
       "    .dataframe thead th {\n",
       "        text-align: right;\n",
       "    }\n",
       "</style>\n",
       "<table border=\"1\" class=\"dataframe\">\n",
       "  <thead>\n",
       "    <tr style=\"text-align: right;\">\n",
       "      <th></th>\n",
       "      <th>danceability</th>\n",
       "      <th>energy</th>\n",
       "      <th>key</th>\n",
       "      <th>loudness</th>\n",
       "      <th>mode</th>\n",
       "      <th>speechiness</th>\n",
       "      <th>acousticness</th>\n",
       "      <th>instrumentalness</th>\n",
       "      <th>liveness</th>\n",
       "      <th>valence</th>\n",
       "      <th>tempo</th>\n",
       "      <th>preference</th>\n",
       "    </tr>\n",
       "  </thead>\n",
       "  <tbody>\n",
       "    <tr>\n",
       "      <th>15266</th>\n",
       "      <td>0.452</td>\n",
       "      <td>0.563</td>\n",
       "      <td>4</td>\n",
       "      <td>-6.607</td>\n",
       "      <td>1</td>\n",
       "      <td>0.0272</td>\n",
       "      <td>0.144000</td>\n",
       "      <td>0.000000</td>\n",
       "      <td>0.1430</td>\n",
       "      <td>0.2090</td>\n",
       "      <td>137.715</td>\n",
       "      <td>1</td>\n",
       "    </tr>\n",
       "    <tr>\n",
       "      <th>3265</th>\n",
       "      <td>0.106</td>\n",
       "      <td>0.986</td>\n",
       "      <td>1</td>\n",
       "      <td>-4.179</td>\n",
       "      <td>1</td>\n",
       "      <td>0.1060</td>\n",
       "      <td>0.000020</td>\n",
       "      <td>0.000077</td>\n",
       "      <td>0.0719</td>\n",
       "      <td>0.0557</td>\n",
       "      <td>175.981</td>\n",
       "      <td>1</td>\n",
       "    </tr>\n",
       "    <tr>\n",
       "      <th>34049</th>\n",
       "      <td>0.536</td>\n",
       "      <td>0.720</td>\n",
       "      <td>7</td>\n",
       "      <td>-11.277</td>\n",
       "      <td>0</td>\n",
       "      <td>0.0436</td>\n",
       "      <td>0.002020</td>\n",
       "      <td>0.000127</td>\n",
       "      <td>0.3570</td>\n",
       "      <td>0.6330</td>\n",
       "      <td>117.367</td>\n",
       "      <td>1</td>\n",
       "    </tr>\n",
       "    <tr>\n",
       "      <th>12539</th>\n",
       "      <td>0.334</td>\n",
       "      <td>0.971</td>\n",
       "      <td>1</td>\n",
       "      <td>-2.585</td>\n",
       "      <td>1</td>\n",
       "      <td>0.1410</td>\n",
       "      <td>0.000242</td>\n",
       "      <td>0.000000</td>\n",
       "      <td>0.1020</td>\n",
       "      <td>0.2680</td>\n",
       "      <td>195.135</td>\n",
       "      <td>1</td>\n",
       "    </tr>\n",
       "    <tr>\n",
       "      <th>9370</th>\n",
       "      <td>0.196</td>\n",
       "      <td>0.978</td>\n",
       "      <td>1</td>\n",
       "      <td>-4.555</td>\n",
       "      <td>1</td>\n",
       "      <td>0.1720</td>\n",
       "      <td>0.000144</td>\n",
       "      <td>0.050200</td>\n",
       "      <td>0.0898</td>\n",
       "      <td>0.3330</td>\n",
       "      <td>179.151</td>\n",
       "      <td>1</td>\n",
       "    </tr>\n",
       "  </tbody>\n",
       "</table>\n",
       "</div>"
      ],
      "text/plain": [
       "       danceability  energy key  loudness mode  speechiness  acousticness  \\\n",
       "15266         0.452   0.563   4    -6.607    1       0.0272      0.144000   \n",
       "3265          0.106   0.986   1    -4.179    1       0.1060      0.000020   \n",
       "34049         0.536   0.720   7   -11.277    0       0.0436      0.002020   \n",
       "12539         0.334   0.971   1    -2.585    1       0.1410      0.000242   \n",
       "9370          0.196   0.978   1    -4.555    1       0.1720      0.000144   \n",
       "\n",
       "       instrumentalness  liveness  valence    tempo  preference  \n",
       "15266          0.000000    0.1430   0.2090  137.715           1  \n",
       "3265           0.000077    0.0719   0.0557  175.981           1  \n",
       "34049          0.000127    0.3570   0.6330  117.367           1  \n",
       "12539          0.000000    0.1020   0.2680  195.135           1  \n",
       "9370           0.050200    0.0898   0.3330  179.151           1  "
      ]
     },
     "execution_count": 42,
     "metadata": {},
     "output_type": "execute_result"
    }
   ],
   "source": [
    "df = df[['danceability', 'energy','key','loudness','mode','speechiness','acousticness','instrumentalness','liveness','valence','tempo', 'preference']]\n",
    "# preference col can be used for other analysis\n",
    "df.head()"
   ]
  },
  {
   "cell_type": "markdown",
   "id": "9adad5ad",
   "metadata": {},
   "source": [
    "Split data into features and target variable. Although, in this case, we will not be using our target variable"
   ]
  },
  {
   "cell_type": "code",
   "execution_count": 43,
   "id": "a56236aa",
   "metadata": {},
   "outputs": [],
   "source": [
    "X = df.iloc[:, 1:-1].values\n",
    "y = df.iloc[:, -1].values"
   ]
  },
  {
   "cell_type": "markdown",
   "id": "7624ebe9",
   "metadata": {},
   "source": [
    "Define a scaling function for numpy arrays. This function makes sure that our numeric values have a mean of 0 and a standard deviation of 1."
   ]
  },
  {
   "cell_type": "code",
   "execution_count": 44,
   "id": "78c44268",
   "metadata": {},
   "outputs": [],
   "source": [
    "def scale_features(X):\n",
    "    for i in range(X.shape[1]):\n",
    "        col = X[:, i]\n",
    "        if np.issubdtype(col.dtype, np.number):  # check if the column is numeric\n",
    "            col = col.astype(float)\n",
    "            X[:, i] = (col - col.mean()) / col.std()  # scale the column"
   ]
  },
  {
   "cell_type": "markdown",
   "id": "50c09a10",
   "metadata": {},
   "source": [
    "Apply the scaling function to X"
   ]
  },
  {
   "cell_type": "code",
   "execution_count": 45,
   "id": "3fac99bd",
   "metadata": {},
   "outputs": [
    {
     "data": {
      "text/plain": [
       "array([[-2.30329656, -0.45927308, -0.94273929,  0.92955297, -1.0792426 ,\n",
       "         0.93547884, -0.33383549, -0.48209698, -0.75225177,  0.19114764],\n",
       "       [ 0.68592288, -1.34762246,  0.27989983,  0.92955297,  0.03139446,\n",
       "        -0.29258781, -0.33333717, -0.8948328 , -1.44388257,  1.42910655],\n",
       "       [-1.19382268,  0.4290763 , -3.29435573, -1.07578593, -0.84809479,\n",
       "        -0.27552643, -0.33301036,  0.76017397,  1.1606736 , -0.46713878],\n",
       "       [ 0.57992219, -1.34762246,  1.08257148,  0.92955297,  0.52469772,\n",
       "        -0.29069172, -0.33383549, -0.72010216, -0.4860664 ,  2.04876539],\n",
       "       [ 0.62938918, -1.34762246,  0.09056197,  0.92955297,  0.96162347,\n",
       "        -0.2915276 , -0.00768103, -0.79092322, -0.19281133,  1.53166051]])"
      ]
     },
     "execution_count": 45,
     "metadata": {},
     "output_type": "execute_result"
    }
   ],
   "source": [
    "scale_features(X)\n",
    "\n",
    "X[:5]"
   ]
  },
  {
   "cell_type": "markdown",
   "id": "5936e195",
   "metadata": {},
   "source": [
    "Perform PCA with 2 components"
   ]
  },
  {
   "cell_type": "code",
   "execution_count": 46,
   "id": "92e71abc",
   "metadata": {},
   "outputs": [],
   "source": [
    "pca = PCA(n_components=2)\n",
    "principal_components = pca.fit_transform(X)"
   ]
  },
  {
   "cell_type": "markdown",
   "id": "6d3adaed",
   "metadata": {},
   "source": [
    "Create a scatter plot of the feature vectors"
   ]
  },
  {
   "cell_type": "code",
   "execution_count": 47,
   "id": "203e6340",
   "metadata": {},
   "outputs": [
    {
     "data": {
      "image/png": "[encoded data removed]",
      "text/plain": [
       "<Figure size 640x480 with 1 Axes>"
      ]
     },
     "metadata": {},
     "output_type": "display_data"
    }
   ],
   "source": [
    "plt.scatter(principal_components[:, 0], principal_components[:, 1])\n",
    "plt.xlabel(\"Principal Component 1\")\n",
    "plt.ylabel(\"Principal Component 2\")\n",
    "plt.title(\"PCA of the data\")\n",
    "plt.show()"
   ]
  },
  {
   "cell_type": "markdown",
   "id": "36cc89e4",
   "metadata": {},
   "source": [
    "Get the principal axes in feature space"
   ]
  },
  {
   "cell_type": "code",
   "execution_count": 48,
   "id": "e72be804",
   "metadata": {},
   "outputs": [],
   "source": [
    "feature_vectors = pca.components_.T"
   ]
  },
  {
   "cell_type": "markdown",
   "id": "a6606ec5",
   "metadata": {},
   "source": [
    "Set scaling factor for feature vectors"
   ]
  },
  {
   "cell_type": "code",
   "execution_count": 49,
   "id": "f67c5d3e",
   "metadata": {},
   "outputs": [],
   "source": [
    "scale_factor = 4"
   ]
  },
  {
   "cell_type": "markdown",
   "id": "e0e2bb0c",
   "metadata": {},
   "source": [
    "Plot the feature vectors"
   ]
  },
  {
   "cell_type": "code",
   "execution_count": 50,
   "id": "9ecfaee1",
   "metadata": {},
   "outputs": [
    {
     "data": {
      "image/png": "[encoded data removed]",
      "text/plain": [
       "<Figure size 640x480 with 1 Axes>"
      ]
     },
     "metadata": {},
     "output_type": "display_data"
    }
   ],
   "source": [
    "plt.scatter(principal_components[:, 0], principal_components[:, 1])\n",
    "for i, feature_vector in enumerate(feature_vectors):\n",
    "    plt.arrow(0, 0, feature_vector[0]*scale_factor, feature_vector[1]*scale_factor, \n",
    "              color='r', alpha=0.5, linewidth=2*scale_factor, \n",
    "              head_width=0.1*scale_factor, head_length=0.1*scale_factor)\n",
    "    plt.text(feature_vector[0]*scale_factor*1.15, feature_vector[1]*scale_factor*1.15, \n",
    "             df.columns[:-1][i], color='r', ha='center', va='center')\n",
    "plt.xlabel(\"Principal Component 1\")\n",
    "plt.ylabel(\"Principal Component 2\")\n",
    "plt.title('Revised PCA')    \n",
    "plt.show()"
   ]
  },
  {
   "cell_type": "code",
   "execution_count": 51,
   "id": "39a979b3",
   "metadata": {},
   "outputs": [
    {
     "data": {
      "text/plain": [
       "<Figure size 640x480 with 0 Axes>"
      ]
     },
     "metadata": {},
     "output_type": "display_data"
    }
   ],
   "source": [
    "# plt.savefig('pca.png')"
   ]
  }
 ],
 "metadata": {
  "kernelspec": {
   "display_name": "Python 3",
   "language": "python",
   "name": "python3"
  },
  "language_info": {
   "codemirror_mode": {
    "name": "ipython",
    "version": 3
   },
   "file_extension": ".py",
   "mimetype": "text/x-python",
   "name": "python",
   "nbconvert_exporter": "python",
   "pygments_lexer": "ipython3",
   "version": "3.10.2"
  }
 },
 "nbformat": 4,
 "nbformat_minor": 5
}
