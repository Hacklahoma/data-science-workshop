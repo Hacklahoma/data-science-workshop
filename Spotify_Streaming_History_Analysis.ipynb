{
 "cells": [
  {
   "cell_type": "markdown",
   "id": "1d5be60e",
   "metadata": {},
   "source": [
    "# Spotify Streaming History Analysis"
   ]
  },
  {
   "cell_type": "markdown",
   "id": "fbd1c94c",
   "metadata": {},
   "source": [
    "## Data Loading"
   ]
  },
  {
   "cell_type": "code",
   "execution_count": null,
   "id": "a168bc54",
   "metadata": {},
   "outputs": [],
   "source": [
    "\n",
    "import json\n",
    "import pandas as pd\n",
    "\n",
    "# Load the provided JSON files\n",
    "files = [\n",
    "    \"StreamingHistory0.json\",\n",
    "    \"StreamingHistory1.json\",\n",
    "    \"StreamingHistory2.json\",\n",
    "    \"StreamingHistory3.json\"\n",
    "]\n",
    "\n",
    "data = []\n",
    "for file in files:\n",
    "    with open(file, 'r', encoding='utf-8') as f:\n",
    "        data.extend(json.load(f))\n",
    "\n",
    "# Convert data into a pandas DataFrame\n",
    "df = pd.DataFrame(data)\n",
    "\n",
    "# Convert endTime to datetime format\n",
    "df['endTime'] = pd.to_datetime(df['endTime'])\n",
    "\n",
    "df.head()\n"
   ]
  },
  {
   "cell_type": "markdown",
   "id": "ea43ee73",
   "metadata": {},
   "source": [
    "## Analysis"
   ]
  },
  {
   "cell_type": "markdown",
   "id": "02a2399b",
   "metadata": {},
   "source": [
    "### Most Listened-to Artists"
   ]
  },
  {
   "cell_type": "code",
   "execution_count": null,
   "id": "089cedb2",
   "metadata": {},
   "outputs": [],
   "source": [
    "\n",
    "from collections import defaultdict\n",
    "\n",
    "# Most listened-to artists\n",
    "artist_time_played = df.groupby('artistName')['msPlayed'].sum().sort_values(ascending=False)\n",
    "artist_time_played.head(10)\n"
   ]
  },
  {
   "cell_type": "markdown",
   "id": "a7e199e5",
   "metadata": {},
   "source": [
    "### Most Played Tracks"
   ]
  },
  {
   "cell_type": "code",
   "execution_count": null,
   "id": "966f81ef",
   "metadata": {},
   "outputs": [],
   "source": [
    "\n",
    "# Most played tracks\n",
    "most_played_tracks = df.groupby(['artistName', 'trackName']).size().sort_values(ascending=False)\n",
    "most_played_tracks.head(10)\n"
   ]
  },
  {
   "cell_type": "markdown",
   "id": "2302d973",
   "metadata": {},
   "source": [
    "### Total Listening Time"
   ]
  },
  {
   "cell_type": "code",
   "execution_count": null,
   "id": "8c267a4b",
   "metadata": {},
   "outputs": [],
   "source": [
    "\n",
    "# Total listening time\n",
    "total_listening_time = df['msPlayed'].sum()\n",
    "total_listening_time\n"
   ]
  },
  {
   "cell_type": "markdown",
   "id": "9dbdd184",
   "metadata": {},
   "source": [
    "### Distribution of Listening by Date"
   ]
  },
  {
   "cell_type": "code",
   "execution_count": null,
   "id": "9c0b47ab",
   "metadata": {},
   "outputs": [],
   "source": [
    "\n",
    "# Distribution of listening by date\n",
    "listening_by_date = df.groupby(df['endTime'].dt.date)['msPlayed'].sum()\n",
    "listening_by_date.head()\n"
   ]
  },
  {
   "cell_type": "markdown",
   "id": "7c2b3904",
   "metadata": {},
   "source": [
    "### Hourly Listening Activity by Week"
   ]
  },
  {
   "cell_type": "code",
   "execution_count": null,
   "id": "16ec11de",
   "metadata": {},
   "outputs": [],
   "source": [
    "# Extract day of the week from the endTime column\n",
    "df['day_of_week'] = df['endTime'].dt.day_name()\n",
    "\n",
    "# Group by day of the week and sum the msPlayed\n",
    "listening_by_day = df.groupby('day_of_week')['msPlayed'].sum()\n",
    "\n",
    "# Order the days for visualization\n",
    "ordered_days = ['Monday', 'Tuesday', 'Wednesday', 'Thursday', 'Friday', 'Saturday', 'Sunday']\n",
    "listening_by_day = listening_by_day.reindex(ordered_days)\n",
    "\n",
    "# Calculate the number of unique weeks in the dataset to get the average\n",
    "num_weeks = (df['endTime'].max() - df['endTime'].min()).days / 7\n",
    "average_listening_by_day = listening_by_day / num_weeks\n",
    "\n",
    "average_listening_by_day\n"
   ]
  },
  {
   "cell_type": "code",
   "execution_count": null,
   "id": "9717fdf4",
   "metadata": {},
   "outputs": [],
   "source": [
    "# Extract the hour from the endTime column\n",
    "df['hour'] = df['endTime'].dt.hour\n",
    "\n",
    "# Group by day of the week and hour, then sum the msPlayed\n",
    "listening_by_day_hour = df.groupby(['day_of_week', 'hour'])['msPlayed'].sum().unstack()\n",
    "\n",
    "# Order the days for visualization\n",
    "listening_by_day_hour = listening_by_day_hour.reindex(ordered_days)\n",
    "\n",
    "# Calculate the average listening time for each day-hour combination\n",
    "average_listening_by_day_hour = listening_by_day_hour / num_weeks\n",
    "\n",
    "average_listening_by_day_hour\n"
   ]
  },
  {
   "cell_type": "code",
   "execution_count": null,
   "id": "128852c9",
   "metadata": {},
   "outputs": [],
   "source": [
    "import seaborn as sns\n",
    "import matplotlib.pyplot as plt\n",
    "\n",
    "# Plotting the heatmap\n",
    "plt.figure(figsize=(14, 7))\n",
    "sns.heatmap(average_listening_by_day_hour, cmap=\"YlGnBu\", linewidths=.5)\n",
    "plt.title('Average Hourly Listening Activity by Day of the Week')\n",
    "plt.xlabel('Hour of the Day')\n",
    "plt.ylabel('Day of the Week')\n",
    "plt.tight_layout()\n",
    "plt.show()\n"
   ]
  },
  {
   "cell_type": "markdown",
   "id": "ec8426af",
   "metadata": {},
   "source": [
    "## Visualizations"
   ]
  },
  {
   "cell_type": "code",
   "execution_count": null,
   "id": "79ab4d66",
   "metadata": {},
   "outputs": [],
   "source": [
    "\n",
    "# 1. Bar chart for the top 10 most listened-to artists\n",
    "plt.figure(figsize=(12, 6))\n",
    "artist_time_played.head(10).plot(kind='bar', color='skyblue')\n",
    "plt.title('Top 10 Most Listened-to Artists')\n",
    "plt.ylabel('Total Time Played (ms)')\n",
    "plt.xlabel('Artist Name')\n",
    "plt.xticks(rotation=45, ha='right')\n",
    "plt.tight_layout()\n",
    "plt.show()\n",
    "\n",
    "# 2. Bar chart for the top 10 most played tracks\n",
    "plt.figure(figsize=(12, 6))\n",
    "most_played_tracks.head(10).plot(kind='bar', color='coral')\n",
    "plt.title('Top 10 Most Played Tracks')\n",
    "plt.ylabel('Number of Plays')\n",
    "plt.xlabel('Artist - Track Name')\n",
    "plt.xticks(rotation=45, ha='right')\n",
    "plt.tight_layout()\n",
    "plt.show()\n",
    "\n",
    "# 3. Pie chart for listening time by top 10 artists\n",
    "plt.figure(figsize=(10, 10))\n",
    "artist_time_played.head(10).plot(kind='pie', autopct='%1.1f%%', startangle=90, colors=plt.cm.Paired.colors)\n",
    "plt.title('Total Listening Time by Top 10 Artists')\n",
    "plt.ylabel('')\n",
    "plt.show()\n",
    "\n",
    "# 4. Time series plot for distribution by date\n",
    "plt.figure(figsize=(14, 6))\n",
    "listening_by_date.plot(kind='line', color='green')\n",
    "plt.title('Distribution of Listening by Date')\n",
    "plt.ylabel('Total Time Played (ms)')\n",
    "plt.xlabel('Date')\n",
    "plt.tight_layout()\n",
    "plt.show()\n"
   ]
  }
 ],
 "metadata": {
  "kernelspec": {
   "display_name": "Python 3",
   "language": "python",
   "name": "python3"
  },
  "language_info": {
   "codemirror_mode": {
    "name": "ipython",
    "version": 3
   },
   "file_extension": ".py",
   "mimetype": "text/x-python",
   "name": "python",
   "nbconvert_exporter": "python",
   "pygments_lexer": "ipython3",
   "version": "3.10.2"
  }
 },
 "nbformat": 4,
 "nbformat_minor": 5
}
